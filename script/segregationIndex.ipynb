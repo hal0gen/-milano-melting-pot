{
 "cells": [
  {
   "cell_type": "markdown",
   "metadata": {},
   "source": [
    "### Calcoliamo un indice di segregazione per ciascun quartiere e ciascun anno del dataset"
   ]
  },
  {
   "cell_type": "code",
   "execution_count": 45,
   "metadata": {},
   "outputs": [
    {
     "name": "stdout",
     "output_type": "stream",
     "text": [
      "3520\n",
      "[{'Anno': '1999', 'IdNil': '1', 'eastas': 71, 'noraf': 102, 'ssaf': 141, 'seas': 309, 'ita': 17602, 'southas': 198, 'soam': 260, 'eu15': 663, 'westas': 124, 'noram': 147, 'eun13': 56, 'otheu': 134, 'ocean': 5, 'other': 5}, {'Anno': '1999', 'IdNil': '2', 'eastas': 105, 'noraf': 94, 'ssaf': 181, 'seas': 251, 'ita': 17523, 'southas': 147, 'soam': 243, 'eu15': 660, 'westas': 38, 'noram': 163, 'eun13': 41, 'otheu': 166, 'ocean': 8, 'other': 3}, {'Anno': '1999', 'IdNil': '3', 'eastas': 0, 'noraf': 0, 'ssaf': 2, 'seas': 6, 'ita': 32, 'southas': 3, 'soam': 1, 'eu15': 8, 'westas': 0, 'noram': 1, 'eun13': 0, 'otheu': 0, 'ocean': 0, 'other': 0}, {'Anno': '1999', 'IdNil': '4', 'eastas': 73, 'noraf': 103, 'ssaf': 141, 'seas': 298, 'ita': 14761, 'southas': 185, 'soam': 253, 'eu15': 421, 'westas': 108, 'noram': 85, 'eun13': 51, 'otheu': 172, 'ocean': 3, 'other': 2}]\n"
     ]
    }
   ],
   "source": [
    "import json\n",
    "dirPath = '/Users/albertocottica/Documents/GitHub/-milano-melting-pot/dati/'\n",
    "with open (dirPath + 'map1Data_ultracompact.json', 'r') as jsonfile:\n",
    "    data = json.load(jsonfile)\n",
    "print(len(data))\n",
    "print (data[:4])"
   ]
  },
  {
   "cell_type": "markdown",
   "metadata": {},
   "source": [
    "Calcoliamo l'indice di segregazione. L'idea è questa: per ciascun anno e per ciascun quartiere devo trovare tutti i record con i numeri di tutte le nazionalità, e metterli in un vettore. A questo punto calcolo l'entropia del vettore, e salvo il risultato in un dizionario."
   ]
  },
  {
   "cell_type": "code",
   "execution_count": 42,
   "metadata": {},
   "outputs": [
    {
     "name": "stdout",
     "output_type": "stream",
     "text": [
      "0.9329227160192092\n"
     ]
    }
   ],
   "source": [
    "import math\n",
    "def segregation_index(nats):\n",
    "    '''\n",
    "    (list) => float\n",
    "    ritorna l'indice di segregazione associato a una popolazione divisa in componenti. \n",
    "    Ciascun componente ha una numerosità, che è un elemento di nats.\n",
    "    '''\n",
    "    base = len(nats) # the logarithm's base\n",
    "    pop = sum(nats)\n",
    "    index = 0\n",
    "    for nat in nats:\n",
    "        if nat == 0:\n",
    "            nat = 0.000000001 # log(0) is undefined and breaks the code\n",
    "        index += nat/pop * math.log(nat/pop, base)\n",
    "    return -index\n",
    "\n",
    "## test\n",
    "mylist = [1,2,3,4,5,6,7,8,9]\n",
    "print (segregation_index(mylist))"
   ]
  },
  {
   "cell_type": "code",
   "execution_count": 46,
   "metadata": {},
   "outputs": [
    {
     "name": "stdout",
     "output_type": "stream",
     "text": [
      "[{'Anno': '1999', 'IdNil': '1', 'SI': 0.2242727988555109}, {'Anno': '1999', 'IdNil': '2', 'SI': 0.21539763514080623}, {'Anno': '1999', 'IdNil': '3', 'SI': 0.48225983966002406}, {'Anno': '1999', 'IdNil': '4', 'SI': 0.23053975335074206}]\n"
     ]
    }
   ],
   "source": [
    "map3Data = []\n",
    "for item in data:\n",
    "    nationalities = []\n",
    "    for key in item:\n",
    "        if key != 'Anno' and key != 'IdNil':\n",
    "            nationalities.append(int(item[key]))\n",
    "    newitem = {'Anno': item['Anno'], 'IdNil': item['IdNil'], 'SI': segregation_index(nationalities)}\n",
    "    map3Data.append(newitem)\n",
    "print(map3Data[:4])"
   ]
  },
  {
   "cell_type": "markdown",
   "metadata": {},
   "source": [
    "Salviamo..."
   ]
  },
  {
   "cell_type": "code",
   "execution_count": 49,
   "metadata": {},
   "outputs": [
    {
     "name": "stdout",
     "output_type": "stream",
     "text": [
      "Done\n"
     ]
    }
   ],
   "source": [
    "with open (dirPath + 'map3Data.json', 'w') as jsonfile:\n",
    "    json.dump(map3Data, jsonfile)\n",
    "print('Done')"
   ]
  }
 ],
 "metadata": {
  "kernelspec": {
   "display_name": "Python 3",
   "language": "python",
   "name": "python3"
  },
  "language_info": {
   "codemirror_mode": {
    "name": "ipython",
    "version": 3
   },
   "file_extension": ".py",
   "mimetype": "text/x-python",
   "name": "python",
   "nbconvert_exporter": "python",
   "pygments_lexer": "ipython3",
   "version": "3.7.3"
  }
 },
 "nbformat": 4,
 "nbformat_minor": 2
}
