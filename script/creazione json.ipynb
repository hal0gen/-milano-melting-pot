{
 "cells": [
  {
   "cell_type": "code",
   "execution_count": 23,
   "metadata": {},
   "outputs": [],
   "source": [
    "import os\n",
    "import pandas as pd\n",
    "import geopandas as gdp\n",
    "import numpy as np"
   ]
  },
  {
   "cell_type": "code",
   "execution_count": 2,
   "metadata": {},
   "outputs": [],
   "source": [
    "from funzioni_per_riclassificare import assign_country"
   ]
  },
  {
   "cell_type": "code",
   "execution_count": 3,
   "metadata": {},
   "outputs": [
    {
     "data": {
      "text/plain": [
       "['summedData.csv',\n",
       " 'ds27_pop_sto_quartiere.csv',\n",
       " 'compactData.csv',\n",
       " 'shape',\n",
       " '.ipynb_checkpoints']"
      ]
     },
     "execution_count": 3,
     "metadata": {},
     "output_type": "execute_result"
    }
   ],
   "source": [
    "os.listdir(\"../dati\")"
   ]
  },
  {
   "cell_type": "code",
   "execution_count": 31,
   "metadata": {},
   "outputs": [],
   "source": [
    "data = pd.read_csv(\"../dati/ds27_pop_sto_quartiere.csv\", sep = \";\")"
   ]
  },
  {
   "cell_type": "code",
   "execution_count": 33,
   "metadata": {},
   "outputs": [],
   "source": [
    "data[\"regione\"] = data['Cittadinanza'].apply(lambda x: assign_country(x)[0])\n",
    "data[\"continente\"] = data['Cittadinanza'].apply(lambda x: assign_country(x)[1])\n",
    "\n",
    "#data.drop('Cittadinanza', inplace = True, axis = 1)"
   ]
  },
  {
   "cell_type": "code",
   "execution_count": 34,
   "metadata": {},
   "outputs": [
    {
     "data": {
      "text/html": [
       "<div>\n",
       "<style scoped>\n",
       "    .dataframe tbody tr th:only-of-type {\n",
       "        vertical-align: middle;\n",
       "    }\n",
       "\n",
       "    .dataframe tbody tr th {\n",
       "        vertical-align: top;\n",
       "    }\n",
       "\n",
       "    .dataframe thead th {\n",
       "        text-align: right;\n",
       "    }\n",
       "</style>\n",
       "<table border=\"1\" class=\"dataframe\">\n",
       "  <thead>\n",
       "    <tr style=\"text-align: right;\">\n",
       "      <th></th>\n",
       "      <th>Anno</th>\n",
       "      <th>IdNil</th>\n",
       "      <th>Nil</th>\n",
       "      <th>Eta</th>\n",
       "      <th>Genere</th>\n",
       "      <th>Cittadinanza</th>\n",
       "      <th>Residenti</th>\n",
       "      <th>regione</th>\n",
       "      <th>continente</th>\n",
       "    </tr>\n",
       "  </thead>\n",
       "  <tbody>\n",
       "    <tr>\n",
       "      <th>0</th>\n",
       "      <td>1999</td>\n",
       "      <td>1</td>\n",
       "      <td>Duomo</td>\n",
       "      <td>0</td>\n",
       "      <td>Femmine</td>\n",
       "      <td>Cinese, Rep. Popolare</td>\n",
       "      <td>1</td>\n",
       "      <td>eastas</td>\n",
       "      <td>asia</td>\n",
       "    </tr>\n",
       "    <tr>\n",
       "      <th>1</th>\n",
       "      <td>1999</td>\n",
       "      <td>1</td>\n",
       "      <td>Duomo</td>\n",
       "      <td>0</td>\n",
       "      <td>Femmine</td>\n",
       "      <td>Egitto</td>\n",
       "      <td>1</td>\n",
       "      <td>noraf</td>\n",
       "      <td>africa</td>\n",
       "    </tr>\n",
       "    <tr>\n",
       "      <th>2</th>\n",
       "      <td>1999</td>\n",
       "      <td>1</td>\n",
       "      <td>Duomo</td>\n",
       "      <td>0</td>\n",
       "      <td>Femmine</td>\n",
       "      <td>Etiopia</td>\n",
       "      <td>1</td>\n",
       "      <td>ssaf</td>\n",
       "      <td>africa</td>\n",
       "    </tr>\n",
       "    <tr>\n",
       "      <th>3</th>\n",
       "      <td>1999</td>\n",
       "      <td>1</td>\n",
       "      <td>Duomo</td>\n",
       "      <td>0</td>\n",
       "      <td>Femmine</td>\n",
       "      <td>Filippine</td>\n",
       "      <td>3</td>\n",
       "      <td>seas</td>\n",
       "      <td>asia</td>\n",
       "    </tr>\n",
       "    <tr>\n",
       "      <th>4</th>\n",
       "      <td>1999</td>\n",
       "      <td>1</td>\n",
       "      <td>Duomo</td>\n",
       "      <td>0</td>\n",
       "      <td>Femmine</td>\n",
       "      <td>Italia</td>\n",
       "      <td>88</td>\n",
       "      <td>ita</td>\n",
       "      <td>italia</td>\n",
       "    </tr>\n",
       "  </tbody>\n",
       "</table>\n",
       "</div>"
      ],
      "text/plain": [
       "   Anno  IdNil    Nil Eta   Genere           Cittadinanza  Residenti regione  \\\n",
       "0  1999      1  Duomo   0  Femmine  Cinese, Rep. Popolare          1  eastas   \n",
       "1  1999      1  Duomo   0  Femmine                 Egitto          1   noraf   \n",
       "2  1999      1  Duomo   0  Femmine                Etiopia          1    ssaf   \n",
       "3  1999      1  Duomo   0  Femmine              Filippine          3    seas   \n",
       "4  1999      1  Duomo   0  Femmine                 Italia         88     ita   \n",
       "\n",
       "  continente  \n",
       "0       asia  \n",
       "1     africa  \n",
       "2     africa  \n",
       "3       asia  \n",
       "4     italia  "
      ]
     },
     "execution_count": 34,
     "metadata": {},
     "output_type": "execute_result"
    }
   ],
   "source": [
    "data.head()"
   ]
  },
  {
   "cell_type": "code",
   "execution_count": null,
   "metadata": {},
   "outputs": [
    {
     "data": {
      "text/plain": [
       "Index(['Anno', 'IdNil', 'Nil', 'Eta', 'Genere', 'Cittadinanza', 'Residenti',\n",
       "       'regione', 'continente'],\n",
       "      dtype='object')"
      ]
     },
     "execution_count": 35,
     "metadata": {},
     "output_type": "execute_result"
    }
   ],
   "source": [
    "data.columns\n"
   ]
  },
  {
   "cell_type": "code",
   "execution_count": null,
   "metadata": {},
   "outputs": [],
   "source": [
    "pandas_to_json = pd.pivot_table(data, values='Residenti', index=['Anno', 'IdNil', 'Nil', 'Eta', 'Cittadinanza', \"regione\", \"continente\"], columns=['Genere'], aggfunc=np.sum)"
   ]
  },
  {
   "cell_type": "code",
   "execution_count": null,
   "metadata": {},
   "outputs": [],
   "source": [
    "pandas_to_json2 = pandas_to_json.reset_index()"
   ]
  },
  {
   "cell_type": "code",
   "execution_count": null,
   "metadata": {},
   "outputs": [],
   "source": [
    "pandas_to_json2.fillna(0, inplace = True)\n",
    "pandas_to_json2[\"Totale\"] = pandas_to_json2[\"Femmine\"] + pandas_to_json2[\"Maschi\"]"
   ]
  },
  {
   "cell_type": "code",
   "execution_count": null,
   "metadata": {},
   "outputs": [],
   "source": [
    "pandas_to_json2.to_dict(orient = \"records\")"
   ]
  },
  {
   "cell_type": "code",
   "execution_count": 30,
   "metadata": {},
   "outputs": [],
   "source": [
    "#pandas_to_json2.to_json(\"../dati/Mappa1.json\", orient = \"records\") #viene un file enorme.. perchè non generare subi"
   ]
  },
  {
   "cell_type": "code",
   "execution_count": null,
   "metadata": {},
   "outputs": [],
   "source": []
  }
 ],
 "metadata": {
  "kernelspec": {
   "display_name": "Python 3",
   "language": "python",
   "name": "python3"
  },
  "language_info": {
   "codemirror_mode": {
    "name": "ipython",
    "version": 3
   },
   "file_extension": ".py",
   "mimetype": "text/x-python",
   "name": "python",
   "nbconvert_exporter": "python",
   "pygments_lexer": "ipython3",
   "version": "3.6.7"
  }
 },
 "nbformat": 4,
 "nbformat_minor": 2
}
