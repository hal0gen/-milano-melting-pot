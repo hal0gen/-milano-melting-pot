{
 "cells": [
  {
   "cell_type": "markdown",
   "metadata": {},
   "source": [
    "### Generare i JSON per le mappe: tipo 2, residenti aggiuntivi"
   ]
  },
  {
   "cell_type": "markdown",
   "metadata": {},
   "source": [
    "Obiettivo di questo notebook è di preparare i dati per  poi generare i JSON pronti per alimentare le mappe del progetto. Passiamo alle mappe del tipo 2, che contano i residenti *aggiuntivi* rispetto al'anno precedente. La spiegazione è [sul wiki](https://github.com/spaghetti-open-data/-milano-melting-pot/wiki/2.-Metodologia-e-workflow).\n",
    "\n",
    "La strategia è: caricare il file precedentemente prodotto, e poi calcolare una semplice differenza."
   ]
  },
  {
   "cell_type": "code",
   "execution_count": 29,
   "metadata": {},
   "outputs": [
    {
     "name": "stdout",
     "output_type": "stream",
     "text": [
      "<class 'list'>\n",
      "24640\n",
      "{'Anno': '1999', 'Nil': 'Duomo', 'eastas M': 38, 'eastas F': 33, 'eastas Tot': 71}\n"
     ]
    }
   ],
   "source": [
    "import json\n",
    "dirPath = '/Users/albertocottica/Documents/GitHub/-milano-melting-pot/dati/'\n",
    "with open (dirPath + 'map1Data.json', 'r') as jsonfile:\n",
    "    data = json.load(jsonfile)\n",
    "print(type(data))\n",
    "print(len(data))\n",
    "print (data[0])"
   ]
  },
  {
   "cell_type": "code",
   "execution_count": 33,
   "metadata": {},
   "outputs": [
    {
     "name": "stdout",
     "output_type": "stream",
     "text": [
      "24640\n",
      "[{'Anno': 1999, 'Nil': 'Duomo', 'eastas D': nan}, {'Anno': 1999, 'Nil': 'Duomo', 'noraf D': nan}, {'Anno': 1999, 'Nil': 'Duomo', 'ssaf D': nan}, {'Anno': 1999, 'Nil': 'Duomo', 'seas D': nan}]\n",
      "Completato in 0:02:38.444200\n"
     ]
    }
   ],
   "source": [
    "import datetime\n",
    "start_script = datetime.datetime.now()\n",
    "deltaData= [] \n",
    "for item in data:\n",
    "    newitem = {} # accumulatore\n",
    "    anno = int(item['Anno'])\n",
    "    quartiere = item['Nil']\n",
    "    newitem['Anno'] = anno\n",
    "    newitem['Nil'] = quartiere\n",
    "    for key in item:\n",
    "        if 'Tot' in key:\n",
    "            newkey = key[:-3] + 'D' ## D is for Delta\n",
    "\n",
    "    if  anno == 1999:\n",
    "        newitem[newkey] = ''\n",
    "    else:\n",
    "        for item2 in data:\n",
    "            if int(item2['Anno']) == anno -1 and item2['Nil'] == quartiere and key in item2:\n",
    "                newitem[newkey] = int(item[key]) - int(item2[key])\n",
    "    deltaData.append(newitem)\n",
    "    \n",
    "print (len(deltaData))\n",
    "print(deltaData[:4])\n",
    "\n",
    "end_script = datetime.datetime.now()\n",
    "print ('Completato in ' + str(end_script-start_script))"
   ]
  },
  {
   "cell_type": "code",
   "execution_count": 35,
   "metadata": {},
   "outputs": [
    {
     "name": "stdout",
     "output_type": "stream",
     "text": [
      "Done\n"
     ]
    }
   ],
   "source": [
    "with open (dirPath + 'map2Data.json', 'w') as outfile:\n",
    "    json.dump(deltaData, outfile)\n",
    "print('Done')"
   ]
  },
  {
   "cell_type": "markdown",
   "metadata": {},
   "source": [
    "Notare: `json.dump` non trasforma il `NaN` di Python in un vero missing value JSON (`null`). Per risolvere il problema, faccio un Ricerca e sostituisci tutto sul file JSON in uscita."
   ]
  }
 ],
 "metadata": {
  "kernelspec": {
   "display_name": "Python 3",
   "language": "python",
   "name": "python3"
  },
  "language_info": {
   "codemirror_mode": {
    "name": "ipython",
    "version": 3
   },
   "file_extension": ".py",
   "mimetype": "text/x-python",
   "name": "python",
   "nbconvert_exporter": "python",
   "pygments_lexer": "ipython3",
   "version": "3.7.3"
  }
 },
 "nbformat": 4,
 "nbformat_minor": 2
}
